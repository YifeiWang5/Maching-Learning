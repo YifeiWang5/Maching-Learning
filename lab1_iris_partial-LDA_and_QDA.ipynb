{
 "cells": [
  {
   "cell_type": "markdown",
   "metadata": {},
   "source": [
    "# Lab:  Iris Flower Classification using Decision Theory\n",
    "\n",
    "In this exercise, we will use decision theory on a simple multi-variable classification problem.  In doing the exercise, you will learn to:\n",
    "\n",
    "* Load a pre-installed dataset in the `sklearn` package.\n",
    "* Estimate parameters of a multi-variable Gaussian from data\n",
    "* Make multi-class predictions using linear and quadratic discriminants derived from the Gaussian parameters\n",
    "* Evaluate the accuracy of the predictions on test data\n",
    "\n",
    "We load the following packages."
   ]
  },
  {
   "cell_type": "code",
   "execution_count": 1,
   "metadata": {},
   "outputs": [],
   "source": [
    "import numpy as np\n",
    "import matplotlib.pyplot as plt\n",
    "import matplotlib\n",
    "matplotlib.rcParams.update({'font.size': 16})"
   ]
  },
  {
   "cell_type": "markdown",
   "metadata": {},
   "source": [
    "## Loading and Visualizing the Data\n",
    "\n",
    "In this lab, we will use the classic dataset [Iris flower dataset](https://en.wikipedia.org/wiki/Iris_flower_data_set).  The problem is to estimate the type of iris ('setosa' 'versicolor' 'virginica') from four features of the Iris flower.  Since the data is widely-used in machine learning classes, it is included in the `sklearn` package in python.  You can download the data with following command:"
   ]
  },
  {
   "cell_type": "code",
   "execution_count": 2,
   "metadata": {},
   "outputs": [],
   "source": [
    "from sklearn.datasets import load_iris\n",
    "data = load_iris()"
   ]
  },
  {
   "cell_type": "markdown",
   "metadata": {},
   "source": [
    "Set`X=data.data` and `y=data.target`.  The matrix `X[i,j]` will then be the value of feature `j` in sample `i` and `y[i]` will be the index of the class for sample `i`.  Also, print:\n",
    "* Number of samples,\n",
    "* Number of features per sample\n",
    "* Number of classes"
   ]
  },
  {
   "cell_type": "code",
   "execution_count": 3,
   "metadata": {},
   "outputs": [],
   "source": [
    "X = data.data\n",
    "y = data.target"
   ]
  },
  {
   "cell_type": "markdown",
   "metadata": {},
   "source": [
    "Print the feature and target names in `data.feature_names` and `data.target_names`"
   ]
  },
  {
   "cell_type": "code",
   "execution_count": 4,
   "metadata": {},
   "outputs": [
    {
     "name": "stdout",
     "output_type": "stream",
     "text": [
      "['sepal length (cm)', 'sepal width (cm)', 'petal length (cm)', 'petal width (cm)'] ['setosa' 'versicolor' 'virginica']\n"
     ]
    }
   ],
   "source": [
    "print(data.feature_names,data.target_names)"
   ]
  },
  {
   "cell_type": "markdown",
   "metadata": {},
   "source": [
    "To visualize the data, create a *scatter* plot of two of the four features:  `(sepal length, petal length)`.  In a scatter plot, each point is plotted as some marker, say a small circle.  Different colors are used for different class labels.  You can create a scatter plot using the `plt.scatter()` command.  Make sure you label your axes using the `plt.xlabel()` and `plt.ylabel()` axes.\n",
    "\n",
    "If you did the plot correctly, you should see that you can separate the points well even just using two features."
   ]
  },
  {
   "cell_type": "code",
   "execution_count": 5,
   "metadata": {},
   "outputs": [
    {
     "data": {
      "text/plain": [
       "Text(0, 0.5, 'petal length (cm)')"
      ]
     },
     "execution_count": 5,
     "metadata": {},
     "output_type": "execute_result"
    },
    {
     "data": {
      "image/png": "[encoded data removed]",
      "text/plain": [
       "<Figure size 432x288 with 1 Axes>"
      ]
     },
     "metadata": {
      "needs_background": "light"
     },
     "output_type": "display_data"
    }
   ],
   "source": [
    "plt.scatter(x=X[:,0],y=X[:,2],c=y)\n",
    "plt.xlabel('sepal length (cm)')\n",
    "plt.ylabel('petal length (cm)')"
   ]
  },
  {
   "cell_type": "markdown",
   "metadata": {},
   "source": [
    "## Classifier Based on a Linear Discriminator\n",
    "\n",
    "Before trying any classification methods, it is necessary to split the data into two components:\n",
    "* Training samples:  Used for fitting the classifier models\n",
    "* Test samples:  Used for testing the classifier\n",
    "\n",
    "We will discuss splitting the training and test data in detail later in the class.  But, the reason for the splitting is that we want to test the classifier on samples not used in training.  This ensures we see how well it works on *new* samples that have not been seen.\n",
    "\n",
    "For this purpose, divide the data into 75 samples `(Xtr,ytr)` for training and 75 samples `(Xts,yts)` for test.  You must randomly shuffle the samples before splitting -- do not pick the first 75 for training.  You can do the splitting manually or use the `sklearn.model_selection.train_test_split` function.  If you use `train_test_split()`, set `shuffle=True`.  "
   ]
  },
  {
   "cell_type": "code",
   "execution_count": 6,
   "metadata": {},
   "outputs": [],
   "source": [
    "from sklearn.model_selection import train_test_split"
   ]
  },
  {
   "cell_type": "code",
   "execution_count": 7,
   "metadata": {},
   "outputs": [],
   "source": [
    "# Split into training and test\n",
    "Xtr, Xts, ytr, yts = train_test_split(X,y,test_size=75, shuffle=True)"
   ]
  },
  {
   "cell_type": "markdown",
   "metadata": {},
   "source": [
    "##### We will first try using a linear discriminator.  For linear discriminator we first need to estimate the sample mean of each class.  Complete the following function which returns:\n",
    "\n",
    "    mu[:,j]  = sample mean of X[i,:]  for samples with y[i]=j"
   ]
  },
  {
   "cell_type": "code",
   "execution_count": 8,
   "metadata": {},
   "outputs": [],
   "source": [
    "# mu is a list of sample means for each class value\n",
    "def fit_lin(X,y):\n",
    "    mu = np.zeros([len(data.feature_names),len(data.target_names)])\n",
    "    for j in list(set(y)): # loop through all possible class values\n",
    "        I = np.where(y==j)[0] # indices of samples in class j\n",
    "        mu[:,j] = np.mean(X[I,:], axis=0) # to take the mean of each col in the selected rows by I\n",
    "    return mu"
   ]
  },
  {
   "cell_type": "markdown",
   "metadata": {},
   "source": [
    "Run the function on the training data to get the sample means."
   ]
  },
  {
   "cell_type": "code",
   "execution_count": 9,
   "metadata": {},
   "outputs": [],
   "source": [
    "mu= fit_lin(Xtr,ytr) # means of 4 features by 3 classes"
   ]
  },
  {
   "cell_type": "code",
   "execution_count": 10,
   "metadata": {},
   "outputs": [
    {
     "data": {
      "text/plain": [
       "array([[5.016     , 5.65      , 6.52142857],\n",
       "       [3.396     , 2.66818182, 3.04285714],\n",
       "       [1.46      , 4.1       , 5.52857143],\n",
       "       [0.24      , 1.28181818, 2.07857143]])"
      ]
     },
     "execution_count": 10,
     "metadata": {},
     "output_type": "execute_result"
    }
   ],
   "source": [
    "mu"
   ]
  },
  {
   "cell_type": "markdown",
   "metadata": {},
   "source": [
    "Assuming a Gaussian model with equal and i.i.d. covariance matrices, the optimal estimator is given by the linear discrimantor:  Given a test sample `x`, we compute:\n",
    "\n",
    "     g[j]  = mu[:,j].dot(x) - 0.5*sum(mu[:,j]**2)\n",
    "     \n",
    "    \n",
    "for each class `j`.  Then, we select `yhat = argmax_j g[j]`.  Complete the following code which takes a matrix of data samples `X` to compute a vector of class predictions `yhat`.  "
   ]
  },
  {
   "cell_type": "code",
   "execution_count": 11,
   "metadata": {},
   "outputs": [],
   "source": [
    "# X is num_samp by features\n",
    "def predict_lin(X,mu):\n",
    "    class_values = list(set(y))\n",
    "    num_samp = X.shape[0]\n",
    "    yhat = np.zeros(num_samp)\n",
    "    \n",
    "    for i in range(num_samp):\n",
    "        x = X[i]\n",
    "        g = np.zeros(len(class_values))\n",
    "        for j in class_values:\n",
    "            g[j] = np.dot(mu[:,j],x) - 0.5*sum(mu[:,j]**2)\n",
    "            yhat[i] = np.argmax(g)\n",
    "    return yhat"
   ]
  },
  {
   "cell_type": "markdown",
   "metadata": {},
   "source": [
    "Test the linear classifier on the test data.  Specifically, estimate `yhat` and measure the accuracy, which is the number of samples on which the classifier was correct.  If you did everything correctly, you should get an accuracy of around 90%.  But, it may be a little higher or lower depending on the random training / test split.   "
   ]
  },
  {
   "cell_type": "code",
   "execution_count": 12,
   "metadata": {},
   "outputs": [],
   "source": [
    "yhat = predict_lin(Xts,mu)"
   ]
  },
  {
   "cell_type": "code",
   "execution_count": 13,
   "metadata": {},
   "outputs": [
    {
     "name": "stdout",
     "output_type": "stream",
     "text": [
      "0.88\n"
     ]
    }
   ],
   "source": [
    "acc = 1 - np.mean((yhat != yts)*1)\n",
    "print(acc)"
   ]
  },
  {
   "cell_type": "markdown",
   "metadata": {},
   "source": [
    "## Quadratic Discriminator\n",
    "\n",
    "Now, we will try a more sophisticated classifier.  In this case, we will estimate both the sample mean and covariance matrix.  Complete the following code that computes:\n",
    "\n",
    "* `mu`:  Array where `mu[:,j]` is the sample mean for the samples with `y[i]==j`.  This is identical to the code you have above.\n",
    "* `S`:  Array of covariance matrices where `S[:,:,j]` is the sample covariance matrix for the samples with `y[i]==j`.  You can use the `np.cov()` method."
   ]
  },
  {
   "cell_type": "code",
   "execution_count": 14,
   "metadata": {},
   "outputs": [],
   "source": [
    "# S, \n",
    "def fit_quad(X,y):\n",
    "    mu = fit_lin(X,y)\n",
    "    num_class = len(list(set(y)))\n",
    "    num_samp,num_feat  = X.shape\n",
    "    S = np.zeros([num_feat,num_feat,num_class])\n",
    "    for j in range(num_class):\n",
    "        I = np.where(y==j)[0]\n",
    "        S[:,:,j] = np.cov(X[I],rowvar=False) # every row is obs of 4 features, so False\n",
    "    return mu, S"
   ]
  },
  {
   "cell_type": "markdown",
   "metadata": {},
   "source": [
    "Fit the quadratic model on the training data."
   ]
  },
  {
   "cell_type": "code",
   "execution_count": 15,
   "metadata": {},
   "outputs": [],
   "source": [
    "mu, S = fit_quad(Xtr, ytr)"
   ]
  },
  {
   "cell_type": "markdown",
   "metadata": {},
   "source": [
    "Given Gaussian models in each class the optimal decision rule is the following *quadratic* decision rule:  Given a sample `x`, we compute the discrimant,\n",
    "\n",
    "\n",
    "    g[j] = 0.5*(x-mu[:,j).T.dot(Sinv[:,:,j]).dot(x-mu[:,j]) + 0.5*log(det(S[:,:,j]))\n",
    "    \n",
    "\n",
    "where `Sinv[:,:,j]` is the matrix inverse of `S[:,:,j]`.  Then, we take `yhat = argmin_j g[j]`.  Complete the following code to  compute the predictions based on the quadratic discriminats."
   ]
  },
  {
   "cell_type": "code",
   "execution_count": 16,
   "metadata": {},
   "outputs": [],
   "source": [
    "def predict_quad(X,mu,S):\n",
    "    num_class = len(list(set(y)))\n",
    "    num_samp  = X.shape[0]\n",
    "    yhat = np.zeros(num_samp)\n",
    "    for i in range(num_samp):\n",
    "        x = X[i]\n",
    "        g = np.zeros(num_class)\n",
    "        for j in range(num_class):\n",
    "            mu_class = mu[:,j]\n",
    "            s_class = S[:,:,j]\n",
    "            Sinv_ic = np.linalg.inv(s_class)\n",
    "            logdet_ic = np.log(np.linalg.det(s_class))\n",
    "            diff = np.reshape(x-mu_class,(1,4))\n",
    "            t_diff = np.reshape(x-mu_class,(4,1))\n",
    "            g[j] = 0.5*diff.dot(Sinv_ic).dot(t_diff) + 0.5*logdet_ic\n",
    "        yhat[i]  = np.argmin(g)\n",
    "    return yhat"
   ]
  },
  {
   "cell_type": "markdown",
   "metadata": {},
   "source": [
    "Test the quadratic discriminator on the test data.  You should get around 98% accuracy depending on the train / test split."
   ]
  },
  {
   "cell_type": "code",
   "execution_count": 17,
   "metadata": {},
   "outputs": [],
   "source": [
    "yhat = predict_quad(Xts,mu,S)"
   ]
  },
  {
   "cell_type": "code",
   "execution_count": 18,
   "metadata": {},
   "outputs": [
    {
     "name": "stdout",
     "output_type": "stream",
     "text": [
      "0.9733333333333334\n"
     ]
    }
   ],
   "source": [
    "acc = 1 - np.mean((yhat != yts)*1)\n",
    "print(acc)"
   ]
  },
  {
   "cell_type": "code",
   "execution_count": null,
   "metadata": {},
   "outputs": [],
   "source": []
  }
 ],
 "metadata": {
  "kernelspec": {
   "display_name": "Python 3",
   "language": "python",
   "name": "python3"
  },
  "language_info": {
   "codemirror_mode": {
    "name": "ipython",
    "version": 3
   },
   "file_extension": ".py",
   "mimetype": "text/x-python",
   "name": "python",
   "nbconvert_exporter": "python",
   "pygments_lexer": "ipython3",
   "version": "3.8.3"
  }
 },
 "nbformat": 4,
 "nbformat_minor": 2
}
